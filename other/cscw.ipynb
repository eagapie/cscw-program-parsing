{
 "cells": [
  {
   "cell_type": "code",
   "execution_count": 3,
   "metadata": {},
   "outputs": [],
   "source": [
    "import xlrd\n",
    "import csv"
   ]
  },
  {
   "cell_type": "code",
   "execution_count": 4,
   "metadata": {},
   "outputs": [],
   "source": [
    "#opening mastersheet\n",
    "workbook = xlrd.open_workbook('Confer data dump_v4.xlsx')\n",
    "\n",
    "#open first sheet of the mastersheet\n",
    "data_sheet = workbook.sheet_by_name('DATA')\n",
    "\n",
    "#create csv template (sessions)\n",
    " \n",
    "#filewriter = csv.writer(csvfile, delimiter=',',quotechar='\"', quoting=csv.QUOTE_ALL)\n",
    "with open('sessions.csv', 'w') as outcsv:\n",
    "    fieldnames = [\"SessionID\", \"Name\", \"Date (yyyy-MM-dd)\",\"Start time (HH:mm in 24-h format)\",\"End time (HH:mm in 24-h format)\",\"Room\",\"Paper Ids\",\"Session Chair Ids\"]\n",
    "    writer = csv.DictWriter(outcsv, fieldnames = fieldnames)\n",
    "    writer.writeheader()\n",
    "    "
   ]
  },
  {
   "cell_type": "code",
   "execution_count": 77,
   "metadata": {},
   "outputs": [
    {
     "ename": "TypeError",
     "evalue": "'list' object cannot be interpreted as an integer",
     "output_type": "error",
     "traceback": [
      "\u001b[0;31m---------------------------------------------------------------------------\u001b[0m",
      "\u001b[0;31mTypeError\u001b[0m                                 Traceback (most recent call last)",
      "\u001b[0;32m<ipython-input-77-4e2207f7d6f0>\u001b[0m in \u001b[0;36m<module>\u001b[0;34m()\u001b[0m\n\u001b[1;32m     16\u001b[0m               \"paper ids\", \"chairs ids\" ]\n\u001b[1;32m     17\u001b[0m         \u001b[0msnum\u001b[0m \u001b[0;34m=\u001b[0m \u001b[0mdata\u001b[0m\u001b[0;34m[\u001b[0m\u001b[0;36m1\u001b[0m\u001b[0;34m]\u001b[0m\u001b[0;34m\u001b[0m\u001b[0m\n\u001b[0;32m---> 18\u001b[0;31m         \u001b[0;32mif\u001b[0m \u001b[0msnum\u001b[0m \u001b[0;32min\u001b[0m \u001b[0mrange\u001b[0m\u001b[0;34m(\u001b[0m\u001b[0mdata_sheet\u001b[0m\u001b[0;34m.\u001b[0m\u001b[0mcol_values\u001b[0m\u001b[0;34m(\u001b[0m\u001b[0mcolumn\u001b[0m\u001b[0;34m)\u001b[0m\u001b[0;34m)\u001b[0m\u001b[0;34m:\u001b[0m\u001b[0;34m\u001b[0m\u001b[0m\n\u001b[0m\u001b[1;32m     19\u001b[0m             \u001b[0mprint\u001b[0m\u001b[0;34m(\u001b[0m\u001b[0msnum\u001b[0m\u001b[0;34m)\u001b[0m\u001b[0;34m\u001b[0m\u001b[0m\n\u001b[1;32m     20\u001b[0m \u001b[0;34m\u001b[0m\u001b[0m\n",
      "\u001b[0;31mTypeError\u001b[0m: 'list' object cannot be interpreted as an integer"
     ]
    }
   ],
   "source": [
    "all_snum = []\n",
    "i = 0\n",
    "snum = 0\n",
    "papers_ids = []\n",
    "for row in range(data_sheet.nrows):\n",
    "    if snum == int(data_sheet.cell(row+1,2).value):\n",
    "       paper_ids.append() \n",
    "    for column in range(data_sheet.ncols):\n",
    "        #snum = int(data_sheet.cell(row+1,column).value\n",
    "        data=[int(data_sheet.cell(row+1,column).value), \n",
    "              int(data_sheet.cell(row+1,2).value),\n",
    "              data_sheet.cell(row+1,3).value, \n",
    "              data_sheet.cell(row+1,1).value, 'type',data_sheet.cell(row+1,4).value,\n",
    "              data_sheet.cell(row+1,5).value,\n",
    "              data_sheet.cell(row+1,17).value,\n",
    "              \"paper ids\", \"chairs ids\" ]\n",
    "        snum = data[1]\n",
    "        if snum in range(data_sheet.col_values(column)):\n",
    "            print(snum)\n",
    "\n",
    "\n",
    "        \n",
    "#comments: \n",
    "# date format needs to be changed\n",
    "# loop through data to find paperIDs by matching session number\n",
    "# loop through to find all session chairs ids\n",
    "writer.writerow(data)"
   ]
  },
  {
   "cell_type": "markdown",
   "metadata": {},
   "source": [
    "#        all_snum.append(int(data_sheet.cell(row+1,column+2).value))\n",
    "        s_num= all_snum[i]\n",
    "        print(s_num)\n",
    "        for i in range(len(all_snum)):\n",
    "            if s_num == all_snum[i]:\n",
    "                print(\"found identical session!\")\n",
    "                break\n",
    "        break"
   ]
  },
  {
   "cell_type": "code",
   "execution_count": null,
   "metadata": {},
   "outputs": [],
   "source": [
    "        if data_sheet.cell(row,column).value==\"Paper Number\":\n",
    "            data=[int(data_sheet.cell(row+1,column).value), data_sheet.cell(row+1,3).value, data_sheet.cell(row+1,1).value, 'type',data_sheet.cell(row+1,1).value,data_sheet.cell(row+1,4).value,data_sheet.cell(row+1,5).value,data_sheet.cell(row+1,17).value ]\n",
    "            print(data)\n",
    "#           writer.writerow(data)\n",
    "            print(\"paper ID = \",int(data_sheet.cell(row+1,column).value))\n",
    "            print(\"Session number =\", int(data_sheet.cell(row+1,2).value))\n",
    "            print(\"Session Name :\", data_sheet.cell(row+1,3).value)\n",
    "            print(\"Session date:\", data_sheet.cell(row+1,1).value)\n",
    "            print(\"Session start time:\", data_sheet.cell(row+1,4).value)\n",
    "            print(\"Session end time:\", data_sheet.cell(row+1,5).value)\n",
    "            print(\"Session Room is:\", data_sheet.cell(row+1,17).value)\n",
    "            \n",
    "            #print(\"Session Paper IDs are as follow:\", data_sheet.cell(row+1,17).value)\n",
    "            #print(\"Session Chairs IDs are as follow:\", data_sheet.cell(row+1,17).value)"
   ]
  },
  {
   "cell_type": "code",
   "execution_count": 19,
   "metadata": {},
   "outputs": [
    {
     "ename": "NameError",
     "evalue": "name 'w' is not defined",
     "output_type": "error",
     "traceback": [
      "\u001b[0;31m---------------------------------------------------------------------------\u001b[0m",
      "\u001b[0;31mNameError\u001b[0m                                 Traceback (most recent call last)",
      "\u001b[0;32m<ipython-input-19-23738210cf03>\u001b[0m in \u001b[0;36m<module>\u001b[0;34m()\u001b[0m\n\u001b[0;32m----> 1\u001b[0;31m \u001b[0mformat2\u001b[0m \u001b[0;34m=\u001b[0m \u001b[0mw\u001b[0m\u001b[0;34m.\u001b[0m\u001b[0madd_format\u001b[0m\u001b[0;34m(\u001b[0m\u001b[0;34m{\u001b[0m\u001b[0;34m'num_format'\u001b[0m\u001b[0;34m:\u001b[0m \u001b[0;34m'yyyy-MM-dd'\u001b[0m\u001b[0;34m}\u001b[0m\u001b[0;34m)\u001b[0m\u001b[0;34m\u001b[0m\u001b[0m\n\u001b[0m",
      "\u001b[0;31mNameError\u001b[0m: name 'w' is not defined"
     ]
    }
   ],
   "source": [
    "format2 = w.add_format({'num_format': 'yyyy-MM-dd'})"
   ]
  },
  {
   "cell_type": "code",
   "execution_count": null,
   "metadata": {},
   "outputs": [],
   "source": [
    "for row,line in enumerate(workbook):\n",
    "  myrange = 'A'+row\n",
    "  mydata = line.split(',')\n",
    "  sht.range(myrange).value = mydata"
   ]
  }
 ],
 "metadata": {
  "kernelspec": {
   "display_name": "Python 3",
   "language": "python",
   "name": "python3"
  },
  "language_info": {
   "codemirror_mode": {
    "name": "ipython",
    "version": 3
   },
   "file_extension": ".py",
   "mimetype": "text/x-python",
   "name": "python",
   "nbconvert_exporter": "python",
   "pygments_lexer": "ipython3",
   "version": "3.6.5"
  }
 },
 "nbformat": 4,
 "nbformat_minor": 2
}
